{
 "cells": [
  {
   "cell_type": "markdown",
   "metadata": {
    "toc": true
   },
   "source": [
    "<h1>Table of Contents<span class=\"tocSkip\"></span></h1>\n",
    "<div class=\"toc\"><ul class=\"toc-item\"><li><span><a href=\"#Parallelization-Lab\" data-toc-modified-id=\"Parallelization-Lab-1\"><span class=\"toc-item-num\">1&nbsp;&nbsp;</span>Parallelization Lab</a></span><ul class=\"toc-item\"><li><span><a href=\"#Step-1:-Use-the-requests-library-to-retrieve-the-content-from-the-URL-below.\" data-toc-modified-id=\"Step-1:-Use-the-requests-library-to-retrieve-the-content-from-the-URL-below.-1.1\"><span class=\"toc-item-num\">1.1&nbsp;&nbsp;</span>Step 1: Use the requests library to retrieve the content from the URL below.</a></span></li><li><span><a href=\"#Step-2:-Use-BeautifulSoup-to-extract-a-list-of-all-the-unique-links-on-the-page.\" data-toc-modified-id=\"Step-2:-Use-BeautifulSoup-to-extract-a-list-of-all-the-unique-links-on-the-page.-1.2\"><span class=\"toc-item-num\">1.2&nbsp;&nbsp;</span>Step 2: Use BeautifulSoup to extract a list of all the unique links on the page.</a></span></li><li><span><a href=\"#Step-3:-Use-list-comprehensions-with-conditions-to-clean-the-link-list.\" data-toc-modified-id=\"Step-3:-Use-list-comprehensions-with-conditions-to-clean-the-link-list.-1.3\"><span class=\"toc-item-num\">1.3&nbsp;&nbsp;</span>Step 3: Use list comprehensions with conditions to clean the link list.</a></span></li><li><span><a href=\"#Step-4:-Use-the-os-library-to-create-a-folder-called-wikipedia-and-make-that-the-current-working-directory.\" data-toc-modified-id=\"Step-4:-Use-the-os-library-to-create-a-folder-called-wikipedia-and-make-that-the-current-working-directory.-1.4\"><span class=\"toc-item-num\">1.4&nbsp;&nbsp;</span>Step 4: Use the os library to create a folder called <em>wikipedia</em> and make that the current working directory.</a></span></li><li><span><a href=\"#Step-5:-Write-a-function-called-index_page-that-accepts-a-link-and-does-the-following.\" data-toc-modified-id=\"Step-5:-Write-a-function-called-index_page-that-accepts-a-link-and-does-the-following.-1.5\"><span class=\"toc-item-num\">1.5&nbsp;&nbsp;</span>Step 5: Write a function called index_page that accepts a link and does the following.</a></span></li><li><span><a href=\"#Step-6:-Sequentially-loop-through-the-list-of-links,-running-the-index_page-function-each-time.\" data-toc-modified-id=\"Step-6:-Sequentially-loop-through-the-list-of-links,-running-the-index_page-function-each-time.-1.6\"><span class=\"toc-item-num\">1.6&nbsp;&nbsp;</span>Step 6: Sequentially loop through the list of links, running the index_page function each time.</a></span></li><li><span><a href=\"#Step-7:-Perform-the-page-indexing-in-parallel-and-note-the-difference-in-performance.\" data-toc-modified-id=\"Step-7:-Perform-the-page-indexing-in-parallel-and-note-the-difference-in-performance.-1.7\"><span class=\"toc-item-num\">1.7&nbsp;&nbsp;</span>Step 7: Perform the page indexing in parallel and note the difference in performance.</a></span></li></ul></li></ul></div>"
   ]
  },
  {
   "cell_type": "markdown",
   "metadata": {},
   "source": [
    "# Parallelization Lab\n",
    "\n",
    "In this lab, you will be leveraging several concepts you have learned to obtain a list of links from a web page and crawl and index the pages referenced by those links - both sequentially and in parallel. Follow the steps below to complete the lab."
   ]
  },
  {
   "cell_type": "markdown",
   "metadata": {},
   "source": [
    "## Step 1: Use the requests library to retrieve the content from the URL below.\n",
    "\n",
    "https://en.wikipedia.org/wiki/Data_science"
   ]
  },
  {
   "cell_type": "code",
   "execution_count": 71,
   "metadata": {},
   "outputs": [],
   "source": [
    "import requests as req\n",
    "\n",
    "url = 'https://en.wikipedia.org/wiki/Data_science'"
   ]
  },
  {
   "cell_type": "code",
   "execution_count": 72,
   "metadata": {},
   "outputs": [],
   "source": [
    "html=req.get(url).text"
   ]
  },
  {
   "cell_type": "code",
   "execution_count": 73,
   "metadata": {},
   "outputs": [
    {
     "data": {
      "text/plain": [
       "'<!DOCTYPE html>\\n<html class=\"client-nojs\" lang=\"en\" dir=\"ltr\">\\n<head>\\n<meta charset=\"UTF-8\"/>\\n<title>Data science - Wikipedia</title>\\n<script>document.documentElement.className=\"client-js\";RLCONF={\"wgBreakFrames\":false,\"wgSeparatorTransformTable\":[\"\",\"\"],\"wgDigitTransformTable\":[\"\",\"\"],\"wgDefaultDateFormat\":\"dmy\",\"wgMonthNames\":[\"\",\"January\",\"February\",\"March\",\"April\",\"May\",\"June\",\"July\",\"August\",\"September\",\"October\",\"November\",\"December\"],\"wgRequestId\":\"3bac7866-d689-43b5-9823-410aed79fc94\",\"wgCSPNonce\":false,\"wgCanonicalNamespace\":\"\",\"wgCanonicalSpecialPageName\":false,\"wgNamespaceNumber\":0,\"wgPageName\":\"Data_science\",\"wgTitle\":\"Data science\",\"wgCurRevisionId\":1107201798,\"wgRevisionId\":1107201798,\"wgArticleId\":35458904,\"wgIsArticle\":true,\"wgIsRedirect\":false,\"wgAction\":\"view\",\"wgUserName\":null,\"wgUserGroups\":[\"*\"],\"wgCategories\":[\"Articles with short description\",\"Short description matches Wikidata\",\"Use dmy dates from August 2021\",\"Information science\",\"Computer occupations\",\"Comput'"
      ]
     },
     "execution_count": 73,
     "metadata": {},
     "output_type": "execute_result"
    }
   ],
   "source": [
    "html[:1000]"
   ]
  },
  {
   "cell_type": "markdown",
   "metadata": {},
   "source": [
    "## Step 2: Use BeautifulSoup to extract a list of all the unique links on the page."
   ]
  },
  {
   "cell_type": "code",
   "execution_count": 74,
   "metadata": {},
   "outputs": [],
   "source": [
    "from bs4 import BeautifulSoup as bs\n",
    "import re"
   ]
  },
  {
   "cell_type": "code",
   "execution_count": 80,
   "metadata": {
    "scrolled": true
   },
   "outputs": [],
   "source": [
    "soup = BeautifulSoup(html, 'html.parser')"
   ]
  },
  {
   "cell_type": "code",
   "execution_count": 131,
   "metadata": {},
   "outputs": [
    {
     "data": {
      "text/plain": [
       "{'#Early_usage',\n",
       " '#Etymology',\n",
       " '#Foundations',\n",
       " '#Modern_usage',\n",
       " '#References',\n",
       " '#Relationship_to_statistics',\n",
       " '#See_also',\n",
       " '#cite_note-1',\n",
       " '#cite_note-10',\n",
       " '#cite_note-11',\n",
       " '#cite_note-12',\n",
       " '#cite_note-13',\n",
       " '#cite_note-14',\n",
       " '#cite_note-15',\n",
       " '#cite_note-16',\n",
       " '#cite_note-17',\n",
       " '#cite_note-18',\n",
       " '#cite_note-2',\n",
       " '#cite_note-20',\n",
       " '#cite_note-21',\n",
       " '#cite_note-23',\n",
       " '#cite_note-25',\n",
       " '#cite_note-26',\n",
       " '#cite_note-27',\n",
       " '#cite_note-28',\n",
       " '#cite_note-29',\n",
       " '#cite_note-4',\n",
       " '#cite_note-7',\n",
       " '#cite_note-8',\n",
       " '#cite_note-9',\n",
       " '#cite_note-:1-24',\n",
       " '#cite_note-:2-3',\n",
       " '#cite_note-:5-30',\n",
       " '#cite_note-:6-31',\n",
       " '#cite_note-:7-19',\n",
       " '#cite_note-BellHey2009-6',\n",
       " '#cite_note-Murtagh_2018_14-22',\n",
       " '#cite_note-TansleyTolle2009-5',\n",
       " '#cite_ref-1',\n",
       " '#cite_ref-10',\n",
       " '#cite_ref-11',\n",
       " '#cite_ref-12',\n",
       " '#cite_ref-13',\n",
       " '#cite_ref-14',\n",
       " '#cite_ref-15',\n",
       " '#cite_ref-16',\n",
       " '#cite_ref-17',\n",
       " '#cite_ref-18',\n",
       " '#cite_ref-2',\n",
       " '#cite_ref-20',\n",
       " '#cite_ref-21',\n",
       " '#cite_ref-23',\n",
       " '#cite_ref-25',\n",
       " '#cite_ref-26',\n",
       " '#cite_ref-27',\n",
       " '#cite_ref-28',\n",
       " '#cite_ref-29',\n",
       " '#cite_ref-4',\n",
       " '#cite_ref-7',\n",
       " '#cite_ref-8',\n",
       " '#cite_ref-9',\n",
       " '#cite_ref-:1_24-0',\n",
       " '#cite_ref-:1_24-1',\n",
       " '#cite_ref-:1_24-2',\n",
       " '#cite_ref-:2_3-0',\n",
       " '#cite_ref-:2_3-1',\n",
       " '#cite_ref-:2_3-2',\n",
       " '#cite_ref-:2_3-3',\n",
       " '#cite_ref-:2_3-4',\n",
       " '#cite_ref-:5_30-0',\n",
       " '#cite_ref-:6_31-0',\n",
       " '#cite_ref-:7_19-0',\n",
       " '#cite_ref-:7_19-1',\n",
       " '#cite_ref-BellHey2009_6-0',\n",
       " '#cite_ref-Murtagh_2018_14_22-0',\n",
       " '#cite_ref-Murtagh_2018_14_22-1',\n",
       " '#cite_ref-TansleyTolle2009_5-0',\n",
       " '//creativecommons.org/licenses/by-sa/3.0/',\n",
       " '//en.wikipedia.org/wiki/Wikipedia:Contact_us',\n",
       " '//en.wikipedia.org/wiki/Wikipedia:Text_of_Creative_Commons_Attribution-ShareAlike_3.0_Unported_License',\n",
       " '//foundation.wikimedia.org/wiki/Privacy_policy',\n",
       " '//foundation.wikimedia.org/wiki/Terms_of_Use',\n",
       " '//www.wikimediafoundation.org/',\n",
       " '/w/index.php?title=Data_science&action=edit',\n",
       " '/w/index.php?title=Data_science&action=edit&section=1',\n",
       " '/w/index.php?title=Data_science&action=edit&section=2',\n",
       " '/w/index.php?title=Data_science&action=edit&section=3',\n",
       " '/w/index.php?title=Data_science&action=edit&section=4',\n",
       " '/w/index.php?title=Data_science&action=edit&section=5',\n",
       " '/w/index.php?title=Data_science&action=edit&section=6',\n",
       " '/w/index.php?title=Data_science&action=edit&section=7',\n",
       " '/w/index.php?title=Data_science&action=history',\n",
       " '/w/index.php?title=Data_science&action=info',\n",
       " '/w/index.php?title=Data_science&oldid=1107201798',\n",
       " '/w/index.php?title=Data_science&printable=yes',\n",
       " '/w/index.php?title=Special:CiteThisPage&page=Data_science&id=1107201798&wpFormIdentifier=titleform',\n",
       " '/w/index.php?title=Special:CreateAccount&returnto=Data+science',\n",
       " '/w/index.php?title=Special:DownloadAsPdf&page=Data_science&action=show-download-screen',\n",
       " '/w/index.php?title=Special:UserLogin&returnto=Data+science',\n",
       " '/wiki/Academic_discipline',\n",
       " '/wiki/Algorithm',\n",
       " '/wiki/American_Statistical_Association',\n",
       " '/wiki/Analysis',\n",
       " '/wiki/Andrew_Gelman',\n",
       " '/wiki/Astronomical_survey',\n",
       " '/wiki/Basic_research',\n",
       " '/wiki/Ben_Fry',\n",
       " '/wiki/Big_data',\n",
       " '/wiki/Business',\n",
       " '/wiki/Buzzword',\n",
       " '/wiki/C._F._Jeff_Wu',\n",
       " '/wiki/Category:Articles_with_short_description',\n",
       " '/wiki/Category:Computational_fields_of_study',\n",
       " '/wiki/Category:Computer_occupations',\n",
       " '/wiki/Category:Data_analysis',\n",
       " '/wiki/Category:Information_science',\n",
       " '/wiki/Category:Short_description_matches_Wikidata',\n",
       " '/wiki/Category:Use_dmy_dates_from_August_2021',\n",
       " '/wiki/Columbia_University',\n",
       " '/wiki/Comet_NEOWISE',\n",
       " '/wiki/Communication',\n",
       " '/wiki/Computational_science',\n",
       " '/wiki/Computer_science',\n",
       " '/wiki/DJ_Patil',\n",
       " '/wiki/Data',\n",
       " '/wiki/Data_analysis',\n",
       " '/wiki/Data_archaeology',\n",
       " '/wiki/Data_augmentation',\n",
       " '/wiki/Data_cleansing',\n",
       " '/wiki/Data_collection',\n",
       " '/wiki/Data_compression',\n",
       " '/wiki/Data_corruption',\n",
       " '/wiki/Data_curation',\n",
       " '/wiki/Data_degradation',\n",
       " '/wiki/Data_editing',\n",
       " '/wiki/Data_extraction',\n",
       " '/wiki/Data_farming',\n",
       " '/wiki/Data_format_management',\n",
       " '/wiki/Data_fusion',\n",
       " '/wiki/Data_integration',\n",
       " '/wiki/Data_integrity',\n",
       " '/wiki/Data_library',\n",
       " '/wiki/Data_lineage',\n",
       " '/wiki/Data_loss',\n",
       " '/wiki/Data_management',\n",
       " '/wiki/Data_migration',\n",
       " '/wiki/Data_mining',\n",
       " '/wiki/Data_philanthropy',\n",
       " '/wiki/Data_pre-processing',\n",
       " '/wiki/Data_preservation',\n",
       " '/wiki/Data_publishing',\n",
       " '/wiki/Data_quality',\n",
       " '/wiki/Data_recovery',\n",
       " '/wiki/Data_reduction',\n",
       " '/wiki/Data_retention',\n",
       " '/wiki/Data_science',\n",
       " '/wiki/Data_scraping',\n",
       " '/wiki/Data_scrubbing',\n",
       " '/wiki/Data_security',\n",
       " '/wiki/Data_set',\n",
       " '/wiki/Data_sonification',\n",
       " '/wiki/Data_steward',\n",
       " '/wiki/Data_storage',\n",
       " '/wiki/Data_validation',\n",
       " '/wiki/Data_warehouse',\n",
       " '/wiki/Data_wrangling',\n",
       " '/wiki/Database',\n",
       " '/wiki/David_Donoho',\n",
       " '/wiki/Distributed_computing',\n",
       " '/wiki/Domain_knowledge',\n",
       " '/wiki/Empirical_research',\n",
       " '/wiki/Exploration',\n",
       " '/wiki/Extract,_load,_transform',\n",
       " '/wiki/Extract,_transform,_load',\n",
       " '/wiki/Graphic_design',\n",
       " '/wiki/Help:Category',\n",
       " '/wiki/Help:Contents',\n",
       " '/wiki/Help:Introduction',\n",
       " '/wiki/Human%E2%80%93computer_interaction',\n",
       " '/wiki/Informatics',\n",
       " '/wiki/Information_explosion',\n",
       " '/wiki/Information_privacy',\n",
       " '/wiki/Information_science',\n",
       " '/wiki/Information_technology',\n",
       " '/wiki/Interdisciplinarity',\n",
       " '/wiki/Jeff_Hammerbacher',\n",
       " '/wiki/Jeffrey_T._Leek',\n",
       " '/wiki/Jim_Gray_(computer_scientist)',\n",
       " '/wiki/John_Tukey',\n",
       " '/wiki/Knowledge',\n",
       " '/wiki/Machine_learning',\n",
       " '/wiki/Main_Page',\n",
       " '/wiki/Mathematics',\n",
       " '/wiki/Montpellier_2_University',\n",
       " '/wiki/Nate_Silver',\n",
       " '/wiki/Nathan_Yau',\n",
       " '/wiki/National_Science_Board',\n",
       " '/wiki/ODSC',\n",
       " '/wiki/Peter_Naur',\n",
       " '/wiki/Portal:Current_events',\n",
       " '/wiki/Problem_solving',\n",
       " '/wiki/Scientific_Data_(journal)',\n",
       " '/wiki/Scientific_method',\n",
       " '/wiki/Space_telescope',\n",
       " '/wiki/Special:BookSources/0-12-241770-4',\n",
       " '/wiki/Special:BookSources/978-0-9825442-0-4',\n",
       " '/wiki/Special:BookSources/9784431702085',\n",
       " '/wiki/Special:MyContributions',\n",
       " '/wiki/Special:MyTalk',\n",
       " '/wiki/Special:Random',\n",
       " '/wiki/Special:RecentChanges',\n",
       " '/wiki/Special:RecentChangesLinked/Data_science',\n",
       " '/wiki/Special:SpecialPages',\n",
       " '/wiki/Special:WhatLinksHere/Data_science',\n",
       " '/wiki/Statistics',\n",
       " '/wiki/Talk:Data_science',\n",
       " '/wiki/Template:Data',\n",
       " '/wiki/Template_talk:Data',\n",
       " '/wiki/Turing_Award',\n",
       " '/wiki/Unstructured_data',\n",
       " '/wiki/Vasant_Dhar',\n",
       " '/wiki/Wide-field_Infrared_Survey_Explorer',\n",
       " '/wiki/Wikipedia:About',\n",
       " '/wiki/Wikipedia:Community_portal',\n",
       " '/wiki/Wikipedia:Contents',\n",
       " '/wiki/Wikipedia:File_Upload_Wizard',\n",
       " '/wiki/Wikipedia:General_disclaimer',\n",
       " '/wiki/William_S._Cleveland',\n",
       " 'https://commons.wikimedia.org/wiki/Category:Data_science',\n",
       " 'https://developer.wikimedia.org',\n",
       " 'https://donate.wikimedia.org/wiki/Special:FundraiserRedirector?utm_source=donate&utm_medium=sidebar&utm_campaign=C13_en.wikipedia.org&uselang=en',\n",
       " 'https://en.wikipedia.org/w/index.php?title=Data_science&oldid=1107201798',\n",
       " 'https://en.wikiversity.org/wiki/Data_science',\n",
       " 'https://foundation.wikimedia.org/wiki/Cookie_statement',\n",
       " 'https://foundation.wikimedia.org/wiki/Privacy_policy',\n",
       " 'https://stats.wikimedia.org/#/en.wikipedia.org',\n",
       " 'https://wikimediafoundation.org/',\n",
       " 'https://www.mediawiki.org/',\n",
       " 'https://www.wikidata.org/wiki/Special:EntityPage/Q2374463'}"
      ]
     },
     "execution_count": 131,
     "metadata": {},
     "output_type": "execute_result"
    }
   ],
   "source": [
    "enlace = soup.find_all('a', class_= None)[1:]\n",
    "lst = []\n",
    "for i in range(len(enlace)):\n",
    "    lst.append(enlace[i].attrs['href'].strip())\n",
    "    \n",
    "lst = set(lst) # Quitar duplicados\n",
    "lst"
   ]
  },
  {
   "cell_type": "markdown",
   "metadata": {},
   "source": [
    "## Step 3: Use list comprehensions with conditions to clean the link list.\n",
    "\n",
    "There are two types of links, absolute and relative. Absolute links have the full URL and begin with http while relative links begin with a forward slash (/) and point to an internal page within the wikipedia.org domain. Clean the respective types of URLs as follows.\n",
    "\n",
    "- Absolute Links: Create a list of these and remove any that contain a percentage sign (%).\n",
    "- Relativel Links: Create a list of these, add the domain to the link so that you have the full URL, and remove any that contain a percentage sign (%).\n",
    "- Combine the list of absolute and relative links and ensure there are no duplicates."
   ]
  },
  {
   "cell_type": "code",
   "execution_count": 132,
   "metadata": {},
   "outputs": [],
   "source": [
    "domain = 'http://wikipedia.org'"
   ]
  },
  {
   "cell_type": "code",
   "execution_count": 133,
   "metadata": {},
   "outputs": [],
   "source": [
    "enlace = soup.find_all('a', class_= None)"
   ]
  },
  {
   "cell_type": "code",
   "execution_count": 134,
   "metadata": {},
   "outputs": [
    {
     "data": {
      "text/plain": [
       "161"
      ]
     },
     "execution_count": 134,
     "metadata": {},
     "output_type": "execute_result"
    }
   ],
   "source": [
    "absolutos = []\n",
    "relativos = []\n",
    "\n",
    "for e in lst:\n",
    "    if 'http' in e:\n",
    "        if '%' not in e:\n",
    "            absolutos.append(domain + e)\n",
    "    elif '/' in e:\n",
    "        if '%' not in e:\n",
    "            e = e.replace('/','//')\n",
    "            relativos.append(e)\n",
    "    else:\n",
    "        continue\n",
    "total = absolutos + relativos\n",
    "len(total)"
   ]
  },
  {
   "cell_type": "markdown",
   "metadata": {},
   "source": [
    "## Step 4: Use the os library to create a folder called *wikipedia* and make that the current working directory."
   ]
  },
  {
   "cell_type": "code",
   "execution_count": 136,
   "metadata": {},
   "outputs": [],
   "source": [
    "import os"
   ]
  },
  {
   "cell_type": "code",
   "execution_count": 137,
   "metadata": {},
   "outputs": [
    {
     "name": "stdout",
     "output_type": "stream",
     "text": [
      "Creado con exito wikipedia\n"
     ]
    }
   ],
   "source": [
    "folder = 'wikipedia'\n",
    "try:\n",
    "    os.mkdir(folder)\n",
    "except OSError:\n",
    "    print ('Directorio {} fallido'.format(folder))\n",
    "else:\n",
    "    print ('Creado con exito {}'.format(folder))"
   ]
  },
  {
   "cell_type": "code",
   "execution_count": 138,
   "metadata": {},
   "outputs": [
    {
     "name": "stdout",
     "output_type": "stream",
     "text": [
      "Ok\n"
     ]
    }
   ],
   "source": [
    "try:\n",
    "    os.chdir('wikipedia')\n",
    "except OSError:\n",
    "    print ('No cambia')\n",
    "else:\n",
    "    print ('Ok')"
   ]
  },
  {
   "cell_type": "markdown",
   "metadata": {},
   "source": [
    "## Step 5: Write a function called index_page that accepts a link and does the following.\n",
    "\n",
    "- Tries to request the content of the page referenced by that link.\n",
    "- Slugifies the filename using the `slugify` function from the [python-slugify](https://pypi.org/project/python-slugify/) library and adds a .html file extension.\n",
    "    - If you don't already have the python-slugify library installed, you can pip install it as follows: `$ pip install python-slugify`.\n",
    "    - To import the slugify function, you would do the following: `from slugify import slugify`.\n",
    "    - You can then slugify a link as follows `slugify(link)`.\n",
    "- Creates a file in the wikipedia folder using the slugified filename and writes the contents of the page to the file.\n",
    "- If an exception occurs during the process above, just `pass`."
   ]
  },
  {
   "cell_type": "code",
   "execution_count": null,
   "metadata": {},
   "outputs": [],
   "source": [
    "# He tenido un poco de lio a partir de aquí. Quiero revisarlo con tiempo."
   ]
  },
  {
   "cell_type": "code",
   "execution_count": 142,
   "metadata": {},
   "outputs": [],
   "source": [
    "#!pip install python-slugify"
   ]
  },
  {
   "cell_type": "code",
   "execution_count": 143,
   "metadata": {},
   "outputs": [],
   "source": [
    "from slugify import slugify\n",
    "\n",
    "unicode=str()"
   ]
  },
  {
   "cell_type": "code",
   "execution_count": null,
   "metadata": {},
   "outputs": [],
   "source": [
    "def index_page(s):\n",
    "    pass"
   ]
  },
  {
   "cell_type": "markdown",
   "metadata": {},
   "source": [
    "## Step 6: Sequentially loop through the list of links, running the index_page function each time.\n",
    "\n",
    "Remember to include `%%time` at the beginning of the cell so that it measures the time it takes for the cell to run."
   ]
  },
  {
   "cell_type": "code",
   "execution_count": 139,
   "metadata": {},
   "outputs": [
    {
     "ename": "NameError",
     "evalue": "name 'list_links' is not defined",
     "output_type": "error",
     "traceback": [
      "\u001b[1;31m---------------------------------------------------------------------------\u001b[0m",
      "\u001b[1;31mNameError\u001b[0m                                 Traceback (most recent call last)",
      "File \u001b[1;32m<timed exec>:1\u001b[0m, in \u001b[0;36m<module>\u001b[1;34m\u001b[0m\n",
      "\u001b[1;31mNameError\u001b[0m: name 'list_links' is not defined"
     ]
    }
   ],
   "source": [
    "%%time\n",
    "lista=[index_page(e) for e in list_links]\n",
    "lista"
   ]
  },
  {
   "cell_type": "markdown",
   "metadata": {},
   "source": [
    "## Step 7: Perform the page indexing in parallel and note the difference in performance.\n",
    "\n",
    "Remember to include `%%time` at the beginning of the cell so that it measures the time it takes for the cell to run."
   ]
  },
  {
   "cell_type": "code",
   "execution_count": 140,
   "metadata": {},
   "outputs": [],
   "source": [
    "import multiprocessing"
   ]
  },
  {
   "cell_type": "code",
   "execution_count": 141,
   "metadata": {},
   "outputs": [
    {
     "ename": "NameError",
     "evalue": "name 'index_page' is not defined",
     "output_type": "error",
     "traceback": [
      "\u001b[1;31m---------------------------------------------------------------------------\u001b[0m",
      "\u001b[1;31mNameError\u001b[0m                                 Traceback (most recent call last)",
      "File \u001b[1;32m<timed exec>:2\u001b[0m, in \u001b[0;36m<module>\u001b[1;34m\u001b[0m\n",
      "\u001b[1;31mNameError\u001b[0m: name 'index_page' is not defined"
     ]
    }
   ],
   "source": [
    "%%time\n",
    "pool = multiprocessing.Pool()\n",
    "result = pool.map(index_page, list_links)\n",
    "pool.terminate()"
   ]
  },
  {
   "cell_type": "code",
   "execution_count": null,
   "metadata": {},
   "outputs": [],
   "source": []
  }
 ],
 "metadata": {
  "kernelspec": {
   "display_name": "Python 3 (ipykernel)",
   "language": "python",
   "name": "python3"
  },
  "language_info": {
   "codemirror_mode": {
    "name": "ipython",
    "version": 3
   },
   "file_extension": ".py",
   "mimetype": "text/x-python",
   "name": "python",
   "nbconvert_exporter": "python",
   "pygments_lexer": "ipython3",
   "version": "3.9.12"
  },
  "toc": {
   "base_numbering": 1,
   "nav_menu": {},
   "number_sections": true,
   "sideBar": true,
   "skip_h1_title": false,
   "title_cell": "Table of Contents",
   "title_sidebar": "Contents",
   "toc_cell": true,
   "toc_position": {},
   "toc_section_display": true,
   "toc_window_display": false
  },
  "varInspector": {
   "cols": {
    "lenName": 16,
    "lenType": 16,
    "lenVar": 40
   },
   "kernels_config": {
    "python": {
     "delete_cmd_postfix": "",
     "delete_cmd_prefix": "del ",
     "library": "var_list.py",
     "varRefreshCmd": "print(var_dic_list())"
    },
    "r": {
     "delete_cmd_postfix": ") ",
     "delete_cmd_prefix": "rm(",
     "library": "var_list.r",
     "varRefreshCmd": "cat(var_dic_list()) "
    }
   },
   "types_to_exclude": [
    "module",
    "function",
    "builtin_function_or_method",
    "instance",
    "_Feature"
   ],
   "window_display": false
  }
 },
 "nbformat": 4,
 "nbformat_minor": 2
}
